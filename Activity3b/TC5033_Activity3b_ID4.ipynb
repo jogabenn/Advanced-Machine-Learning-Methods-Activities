{
  "cells": [
    {
      "cell_type": "markdown",
      "metadata": {
        "id": "view-in-github",
        "colab_type": "text"
      },
      "source": [
        "<a href=\"https://colab.research.google.com/github/jogabenn/Advanced-Machine-Learning-Methods-Activities/blob/main/Activity3b/TC5033_Activity3b_ID4.ipynb\" target=\"_parent\"><img src=\"https://colab.research.google.com/assets/colab-badge.svg\" alt=\"Open In Colab\"/></a>"
      ]
    },
    {
      "cell_type": "markdown",
      "metadata": {
        "id": "940c6dbc"
      },
      "source": [
        "![tec.jpeg](data:image/jpeg;base64,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)\n",
        "\n",
        "# **Masters in Applied Artificial Intelligence**\n",
        "### **Course TC5033: Advanced Machine Learning Methods**\n",
        "#### Tecnológico de Monterrey\n",
        "#### José Antonio Cantoral Ceballos, Ph.D.<br><br>\n",
        "\n",
        "**Group 4:**\n",
        "\n",
        "- **Victor Alejandro Regueira Romero | A01794404 ​**\n",
        "- **Fernando Maytorena Espinosa de los Monteros | A01110946​**\n",
        "- **Alejandra Ramírez Romano | A01793144**\n",
        "- **Jonathan Garza Bennet | A01793038​**<br><br>  \n",
        "\n",
        "\n",
        "## TC 5033\n",
        "### Word Embeddings\n",
        "\n",
        "<br>\n",
        "\n",
        "#### Activity 3b: Text Classification using RNNs and AG_NEWS dataset in PyTorch\n",
        "<br>\n",
        "\n",
        "- Objective:\n",
        "    - Understand the basics of Recurrent Neural Networks (RNNs) and their application in text classification.\n",
        "    - Learn how to handle a real-world text dataset, AG_NEWS, in PyTorch.\n",
        "    - Gain hands-on experience in defining, training, and evaluating a text classification model in PyTorch.\n",
        "    \n",
        "<br>\n",
        "\n",
        "- Instructions:\n",
        "    - Data Preparation: Starter code will be provided that loads the AG_NEWS dataset and prepares it for training. Do not modify this part. However, you should be sure to understand it, and comment it, the use of markdown cells is suggested.\n",
        "\n",
        "    - Model Setup: A skeleton code for the RNN model class will be provided. Complete this class and use it to instantiate your model.\n",
        "\n",
        "    - Implementing Accuracy Function: Write a function that takes model predictions and ground truth labels as input and returns the model's accuracy.\n",
        "\n",
        "    - Training Function: Implement a function that performs training on the given model using the AG_NEWS dataset. Your model should achieve an accuracy of at least 80% to get full marks for this part.\n",
        "\n",
        "    - Text Sampling: Write a function that takes a sample text as input and classifies it using your trained model.\n",
        "\n",
        "    - Confusion Matrix: Implement a function to display the confusion matrix for your model on the test data.\n",
        "\n",
        "    - Submission: Submit your completed Jupyter Notebook. Make sure to include a markdown cell at the beginning of the notebook that lists the names of all team members. Teams should consist of 3 to 4 members.\n",
        "    \n",
        "<br>\n",
        "\n",
        "- Evaluation Criteria:\n",
        "\n",
        "    - Correct setup of all the required libraries and modules (10%)\n",
        "    - Code Quality (30%): Your code should be well-organized, clearly commented, and easy to follow. Use also markdown cells for clarity. Comments should be given for all the provided code, this will help you understand its functionality.\n",
        "    \n",
        "   - Functionality (60%):\n",
        "        - All the functions should execute without errors and provide the expected outputs.\n",
        "        - RNN model class (20%)\n",
        "        - Accuracy fucntion (10%)\n",
        "        - Training function (10%)\n",
        "        - Sampling function (10%)\n",
        "        - Confucion matrix (10%)\n",
        "\n",
        "        - The model should achieve at least an 80% accuracy on the AG_NEWS test set for full marks in this criterion.\n"
      ],
      "id": "940c6dbc"
    },
    {
      "cell_type": "markdown",
      "metadata": {
        "id": "4de318da"
      },
      "source": [
        "Dataset\n",
        "\n",
        "https://pytorch.org/text/stable/datasets.html#text-classification\n",
        "\n",
        "https://paperswithcode.com/dataset/ag-news\n"
      ],
      "id": "4de318da"
    },
    {
      "cell_type": "markdown",
      "metadata": {
        "id": "4a9801f9"
      },
      "source": [
        "### Import libraries"
      ],
      "id": "4a9801f9"
    },
    {
      "cell_type": "code",
      "execution_count": null,
      "metadata": {
        "id": "54394f53"
      },
      "outputs": [],
      "source": [
        "#Not required\n",
        "\n",
        "# conda install -c pytorch torchtext\n",
        "# conda install -c pytorch torchdata\n",
        "# conda install pytorch torchvision torchaudio cudatoolkit=10.2 -c pytorch"
      ],
      "id": "54394f53"
    },
    {
      "cell_type": "code",
      "execution_count": 166,
      "metadata": {
        "id": "878b524f"
      },
      "outputs": [],
      "source": [
        "# The following libraries are required for running the given code\n",
        "# Please feel free to add any libraries you consider adecuate to complete the assingment.\n",
        "import numpy as np\n",
        "#PyTorch libraries\n",
        "import torch\n",
        "from torchtext.datasets import AG_NEWS\n",
        "# Dataloader library\n",
        "from torch.utils.data import DataLoader\n",
        "from torch.utils.data.dataset import random_split\n",
        "# Libraries to prepare the data\n",
        "from torchtext.data.utils import get_tokenizer\n",
        "from torchtext.vocab import build_vocab_from_iterator\n",
        "from torchtext.data.functional import to_map_style_dataset\n",
        "# neural layers\n",
        "from torch import nn\n",
        "from torch.nn import functional as F\n",
        "\n",
        "# These libraries are suggested to plot confusion matrix\n",
        "# you may use others\n",
        "\n",
        "#Install scikit-plot\n",
        "#!pip install scikit-plot\n",
        "#import scikitplot as skplt\n",
        "#import gc"
      ],
      "id": "878b524f"
    },
    {
      "cell_type": "code",
      "execution_count": 1,
      "metadata": {
        "colab": {
          "base_uri": "https://localhost:8080/"
        },
        "id": "pIKEZQwraq9m",
        "outputId": "514cd02d-41d8-4c1b-fd41-120fd0d71931"
      },
      "outputs": [
        {
          "output_type": "stream",
          "name": "stdout",
          "text": [
            "Collecting portalocker\n",
            "  Downloading portalocker-2.8.2-py3-none-any.whl (17 kB)\n",
            "Installing collected packages: portalocker\n",
            "Successfully installed portalocker-2.8.2\n"
          ]
        }
      ],
      "source": [
        "#Portalocker required for loading the AG_NEWS dataset\n",
        "#Environment needs to be reset after this to get it working\n",
        "!pip install portalocker"
      ],
      "id": "pIKEZQwraq9m"
    },
    {
      "cell_type": "code",
      "execution_count": 3,
      "metadata": {
        "colab": {
          "base_uri": "https://localhost:8080/"
        },
        "id": "3bab55f3",
        "outputId": "299cbe52-dbeb-414a-8580-49b3d5a81c86"
      },
      "outputs": [
        {
          "output_type": "stream",
          "name": "stdout",
          "text": [
            "cpu\n"
          ]
        }
      ],
      "source": [
        "# Use GPU if available\n",
        "device = torch.device(\"cuda\" if torch.cuda.is_available() else \"cpu\")\n",
        "print(device)"
      ],
      "id": "3bab55f3"
    },
    {
      "cell_type": "markdown",
      "metadata": {
        "id": "3d38956d"
      },
      "source": [
        "### Get the train and the test datasets and dataloaders"
      ],
      "id": "3d38956d"
    },
    {
      "cell_type": "markdown",
      "metadata": {
        "id": "e9c6b784"
      },
      "source": [
        "Classes:\n",
        "\n",
        "* 1 - World\n",
        "\n",
        "* 2 - Sports\n",
        "\n",
        "* 3 - Business\n",
        "\n",
        "* 4 - Sci/Tech\n",
        "\n",
        "We will convert them to:\n",
        "\n",
        "* 0 - World\n",
        "\n",
        "* 1 - Sports\n",
        "\n",
        "* 2 - Business\n",
        "\n",
        "* 3 - Sci/Tech"
      ],
      "id": "e9c6b784"
    },
    {
      "cell_type": "code",
      "execution_count": 4,
      "metadata": {
        "id": "49fbed19"
      },
      "outputs": [],
      "source": [
        "#Get AG_NEWS train and test datasets\n",
        "train_dataset, test_dataset = AG_NEWS()\n",
        "train_dataset, test_dataset = to_map_style_dataset(train_dataset), to_map_style_dataset(test_dataset)"
      ],
      "id": "49fbed19"
    },
    {
      "cell_type": "code",
      "execution_count": 5,
      "metadata": {
        "id": "9c372eb9"
      },
      "outputs": [],
      "source": [
        "# Get the tokeniser\n",
        "# tokeniser object\n",
        "tokeniser = get_tokenizer('basic_english')\n",
        "\n",
        "#Function to tokenize dataset\n",
        "def yield_tokens(data):\n",
        "    for _, text in data:\n",
        "        yield tokeniser(text)"
      ],
      "id": "9c372eb9"
    },
    {
      "cell_type": "code",
      "execution_count": 6,
      "metadata": {
        "id": "794d0375"
      },
      "outputs": [],
      "source": [
        "# Build the vocabulary\n",
        "vocab = build_vocab_from_iterator(yield_tokens(train_dataset), specials=[\"<unk>\"])\n",
        "#set unknown token at position 0\n",
        "vocab.set_default_index(vocab[\"<unk>\"])"
      ],
      "id": "794d0375"
    },
    {
      "cell_type": "code",
      "execution_count": 7,
      "metadata": {
        "colab": {
          "base_uri": "https://localhost:8080/"
        },
        "id": "b48268d4",
        "outputId": "ca27eb38-a842-4e95-f01b-016d888a4019"
      },
      "outputs": [
        {
          "output_type": "stream",
          "name": "stdout",
          "text": [
            "['welcome', 'to', 'tc5033'] [3314, 4, 0]\n"
          ]
        }
      ],
      "source": [
        "#test tokens\n",
        "tokens = tokeniser('Welcome to TC5033')\n",
        "print(tokens, vocab(tokens))"
      ],
      "id": "b48268d4"
    },
    {
      "cell_type": "code",
      "execution_count": 8,
      "metadata": {
        "id": "c8c8f6a6"
      },
      "outputs": [],
      "source": [
        "#Calculate train and validation datasets sizes\n",
        "NUM_TRAIN = int(len(train_dataset)*0.9)\n",
        "NUM_VAL = len(train_dataset) - NUM_TRAIN"
      ],
      "id": "c8c8f6a6"
    },
    {
      "cell_type": "code",
      "execution_count": 9,
      "metadata": {
        "id": "8290895e"
      },
      "outputs": [],
      "source": [
        "#Split randomly into train and validation datasets\n",
        "train_dataset, val_dataset = random_split(train_dataset, [NUM_TRAIN, NUM_VAL])"
      ],
      "id": "8290895e"
    },
    {
      "cell_type": "code",
      "execution_count": 10,
      "metadata": {
        "colab": {
          "base_uri": "https://localhost:8080/"
        },
        "id": "cbc75b54",
        "outputId": "0a303bac-7c53-4a34-cb65-935ea94106e1"
      },
      "outputs": [
        {
          "output_type": "stream",
          "name": "stdout",
          "text": [
            "108000 12000 7600\n"
          ]
        }
      ],
      "source": [
        "#Print the lenght of all partitions\n",
        "print(len(train_dataset), len(val_dataset), len(test_dataset))"
      ],
      "id": "cbc75b54"
    },
    {
      "cell_type": "code",
      "execution_count": 11,
      "metadata": {
        "id": "ffdbf077"
      },
      "outputs": [],
      "source": [
        "# function passed to the DataLoader to process a batch of data as indicated\n",
        "def collate_batch(batch):\n",
        "    # Get label and text\n",
        "    y, x = list(zip(*batch))\n",
        "\n",
        "    # Create list with indices from tokeniser\n",
        "    x = [vocab(tokeniser(text)) for text in x]\n",
        "    x = [t + ([0]*(max_tokens - len(t))) if len(t) < max_tokens else t[:max_tokens] for t in x]\n",
        "\n",
        "    # Prepare the labels, by subtracting 1 to get them in the range 0-3\n",
        "    return torch.tensor(x, dtype=torch.int32), torch.tensor(y, dtype=torch.int32) - 1"
      ],
      "id": "ffdbf077"
    },
    {
      "cell_type": "code",
      "execution_count": 12,
      "metadata": {
        "id": "5eb459c7"
      },
      "outputs": [],
      "source": [
        "#Define labels, max tokens to use and batch size\n",
        "labels =  [\"World\", \"Sports\", \"Business\", \"Sci/Tech\"]\n",
        "max_tokens = 50\n",
        "BATCH_SIZE = 256"
      ],
      "id": "5eb459c7"
    },
    {
      "cell_type": "code",
      "execution_count": 13,
      "metadata": {
        "id": "0a55e6ee"
      },
      "outputs": [],
      "source": [
        "#Create train, validation and test loaders using truncating documents to max_tokens and with BATCH_SIZE batches\n",
        "train_loader = DataLoader(train_dataset, batch_size=BATCH_SIZE, collate_fn=collate_batch, shuffle = True)\n",
        "val_loader = DataLoader(val_dataset, batch_size=BATCH_SIZE, collate_fn=collate_batch, shuffle = True)\n",
        "test_loader = DataLoader(test_dataset, batch_size=BATCH_SIZE, collate_fn=collate_batch, shuffle = True)"
      ],
      "id": "0a55e6ee"
    },
    {
      "cell_type": "markdown",
      "metadata": {
        "id": "47b98898"
      },
      "source": [
        "### Let us build our RNN model"
      ],
      "id": "47b98898"
    },
    {
      "cell_type": "code",
      "execution_count": 14,
      "metadata": {
        "id": "50f20793"
      },
      "outputs": [],
      "source": [
        "#Model hyperparameters\n",
        "EMBEDDING_SIZE = 50 # 50 lenght sentences by 50 lengnt embedded word vectors to be similar to square images\n",
        "NEURONS = 128 # complete\n",
        "LAYERS = 2 # complete\n",
        "NUM_CLASSES = len(labels) # complete"
      ],
      "id": "50f20793"
    },
    {
      "cell_type": "code",
      "execution_count": 16,
      "metadata": {
        "id": "0f7f5621"
      },
      "outputs": [],
      "source": [
        "class RNN_Model_1(nn.Module):\n",
        "    def __init__(self, embed_size, hidden, layers, num_classes):\n",
        "        super().__init__()\n",
        "        self.embedding_layer = nn.Embedding(num_embeddings=len(vocab),\n",
        "                                            embedding_dim=embed_size)\n",
        "\n",
        "        #LSTM chosen to avoid vanishing gradient issues on long sentences and for better context understanding\n",
        "        self.rnn = nn.LSTM(embed_size, hidden, layers, batch_first = True) # Batch first required to match the Tensor dimensions\n",
        "                        # You may use PyTorch nn.GRU(), nn.RNN(), or nn.LSTM()\n",
        "\n",
        "        self.fc = nn.Linear(hidden, NUM_CLASSES) # complete output classifier layer using linear layer\n",
        "\n",
        "        self.relu = nn.ReLU()\n",
        "\n",
        "\n",
        "        # implement forward pass. This function will be called when executing the model\n",
        "    def forward(self, x):\n",
        "\n",
        "        #Do word embeddings based on the dictionary for the current document\n",
        "        out = self.embedding_layer(x.to(torch.int64))\n",
        "\n",
        "        #Apply LSTM and only keep the last hidden state vector output.\n",
        "        out, (lstm_hidden, lsmt_cell) = self.rnn(out)\n",
        "\n",
        "         #Only interested on the last time step output\n",
        "        out = lstm_hidden[-1,:,:]\n",
        "\n",
        "        #Apply fully connected model\n",
        "        out = self.fc(out)\n",
        "\n",
        "        #Apply ReLU\n",
        "        out = self.relu(out)\n",
        "\n",
        "        #print(len(lstm_hidden[0]))\n",
        "        #print(out)\n",
        "\n",
        "        return out"
      ],
      "id": "0f7f5621"
    },
    {
      "cell_type": "code",
      "execution_count": 17,
      "metadata": {
        "id": "2a42613f"
      },
      "outputs": [],
      "source": [
        "#Function tu calculate dataloader accuracy\n",
        "def accuracy(model, loader):\n",
        "    #Initialize model metrics to 0\n",
        "    num_correct = 0\n",
        "    num_total = 0\n",
        "\n",
        "    #Put model in evaluation mode (no gradients, no dropout)\n",
        "    model.eval()\n",
        "\n",
        "    #Assign model to current processing device\n",
        "    model = model.to(device=device)\n",
        "\n",
        "    #We do not need gradients while doing predictions\n",
        "    with torch.no_grad():\n",
        "\n",
        "        #Loop for evaluating the model for each minibatch\n",
        "        for xi, yi in loader:\n",
        "\n",
        "            #Assign current batch of data to the assigned processing unit with correct data type\n",
        "            xi = xi.to(device=device, dtype = torch.float32)\n",
        "            yi = yi.to(device=device, dtype = torch.long)\n",
        "\n",
        "            #Calculate scores and cost of current minibatch\n",
        "            scores = model(xi)\n",
        "            _, pred = scores.max(dim=1)\n",
        "\n",
        "            #Accumulate the total correct and total elements evaluated\n",
        "            num_correct += (pred == yi).sum()\n",
        "            num_total += pred.size(0)\n",
        "        acc = float(num_correct)/num_total\n",
        "        #Return accuracy\n",
        "        return acc"
      ],
      "id": "2a42613f"
    },
    {
      "cell_type": "code",
      "execution_count": 18,
      "metadata": {
        "id": "5e843e1f"
      },
      "outputs": [],
      "source": [
        "#Function for training the model\n",
        "def train(model, optimiser, epochs=100):\n",
        "    #Assign model to current processing device\n",
        "    model = model.to(device=device)\n",
        "\n",
        "    #Epoch loop\n",
        "    for epoch in range(epochs):\n",
        "\n",
        "        #Loop for training the model on each of the minibatches created\n",
        "        for i, (xi, yi) in enumerate(train_loader):\n",
        "\n",
        "            #print(len(xi))\n",
        "            #print(len(yi))\n",
        "\n",
        "            #Put model on training mode (enable gradients and dropouts)\n",
        "            model.train()\n",
        "\n",
        "            #Assign current batch of data to the assigned processing unit with correct data type\n",
        "            xi = xi.to(device=device, dtype=torch.float32)\n",
        "            yi = yi.to(device=device, dtype=torch.long)\n",
        "\n",
        "            #Calculate prediction scores\n",
        "            scores = model(xi)\n",
        "\n",
        "            #print(scores)\n",
        "\n",
        "            #Calculate the cost\n",
        "            cost = F.cross_entropy(input= scores, target=yi)\n",
        "\n",
        "            #Reset gradients\n",
        "            optimiser.zero_grad()\n",
        "\n",
        "            #Calculate gradients\n",
        "            cost.backward()\n",
        "\n",
        "            #Update training parameters\n",
        "            optimiser.step()\n",
        "\n",
        "        #Calculate accuracy on the validation partition\n",
        "        acc_train = accuracy(model, val_loader)\n",
        "        acc_val = accuracy(model, train_loader)\n",
        "\n",
        "        #Return results\n",
        "        print(f'Epoch: {epoch}, cost: {cost.item()}, accuracy_train: {acc_train}, accuracy_val: {acc_val}')"
      ],
      "id": "5e843e1f"
    },
    {
      "cell_type": "code",
      "execution_count": 19,
      "metadata": {
        "id": "87775b29"
      },
      "outputs": [],
      "source": [
        "epochs = 10 # 10 epochs have shown to be enough for converging to good accuracy\n",
        "\n",
        "lr = 0.001 # learning rate\n",
        "\n",
        "# instantiate model\n",
        "rnn_model = RNN_Model_1(EMBEDDING_SIZE, NEURONS, LAYERS, NUM_CLASSES)\n",
        "\n",
        "#Adam optimizer for faster convergence\n",
        "optimiser = torch.optim.Adam(rnn_model.parameters(), lr=lr)\n"
      ],
      "id": "87775b29"
    },
    {
      "cell_type": "code",
      "execution_count": 20,
      "metadata": {
        "colab": {
          "base_uri": "https://localhost:8080/"
        },
        "id": "aec12a1b",
        "scrolled": true,
        "outputId": "5d07123d-1766-4bc1-c190-99d0792c65c9"
      },
      "outputs": [
        {
          "output_type": "stream",
          "name": "stdout",
          "text": [
            "Epoch: 0, cost: 0.7349066734313965, accuracy_train: 0.7491666666666666, accuracy_val: 0.7621574074074075\n",
            "Epoch: 1, cost: 0.4022500216960907, accuracy_train: 0.8461666666666666, accuracy_val: 0.8651018518518518\n",
            "Epoch: 2, cost: 0.3780108094215393, accuracy_train: 0.8796666666666667, accuracy_val: 0.9052592592592592\n",
            "Epoch: 3, cost: 0.22515380382537842, accuracy_train: 0.8831666666666667, accuracy_val: 0.9154537037037037\n",
            "Epoch: 4, cost: 0.24157606065273285, accuracy_train: 0.89525, accuracy_val: 0.9308333333333333\n",
            "Epoch: 5, cost: 0.24523863196372986, accuracy_train: 0.8975, accuracy_val: 0.9450185185185185\n",
            "Epoch: 6, cost: 0.23235101997852325, accuracy_train: 0.8966666666666666, accuracy_val: 0.9517962962962963\n",
            "Epoch: 7, cost: 0.1420845240354538, accuracy_train: 0.90025, accuracy_val: 0.9573333333333334\n",
            "Epoch: 8, cost: 0.1295163333415985, accuracy_train: 0.9046666666666666, accuracy_val: 0.9683703703703703\n",
            "Epoch: 9, cost: 0.1300598829984665, accuracy_train: 0.8983333333333333, accuracy_val: 0.9691851851851851\n"
          ]
        }
      ],
      "source": [
        "#Train the model and display results\n",
        "train(rnn_model, optimiser=optimiser,  epochs=epochs)"
      ],
      "id": "aec12a1b"
    },
    {
      "cell_type": "code",
      "execution_count": 21,
      "metadata": {
        "id": "7a3ef175",
        "colab": {
          "base_uri": "https://localhost:8080/"
        },
        "outputId": "abbfa01f-af0b-4cfc-92cf-aa81a109f3ca"
      },
      "outputs": [
        {
          "output_type": "stream",
          "name": "stdout",
          "text": [
            "0.9007\n"
          ]
        }
      ],
      "source": [
        "#Calculate and print test partition accuracy\n",
        "print(f'{accuracy(rnn_model, test_loader):.4f}')"
      ],
      "id": "7a3ef175"
    },
    {
      "cell_type": "code",
      "execution_count": 144,
      "metadata": {
        "id": "ed30693d"
      },
      "outputs": [],
      "source": [
        "#Function to look for a random document in a data loader, display the text, the real and the predicted labels\n",
        "def sample_text(model, loader):\n",
        "\n",
        "    #Get a random index within the data loader length\n",
        "    idx = np.random.randint(len(loader.dataset))\n",
        "\n",
        "    #Extract text and label\n",
        "    y_data, x_text = loader.dataset[idx]\n",
        "\n",
        "    #Tokenize the document\n",
        "    x_tokens = tokeniser(x_text)\n",
        "\n",
        "    #Transform tokens to vocabulary indexes\n",
        "    x_vocab = vocab(x_tokens)\n",
        "\n",
        "    #Make input to be of length max_tokens and transform to pytorch tensor\n",
        "    x_vocab_max_tokens = [x_vocab + ([0]*(max_tokens - len(x_vocab))) if len(x_vocab) < max_tokens else x_vocab[:max_tokens]]\n",
        "    x_vocab_max_tokens = torch.tensor(x_vocab_max_tokens, dtype=torch.int32)\n",
        "\n",
        "    #Calculate model scores\n",
        "    scores = model(x_vocab_max_tokens)\n",
        "\n",
        "    #Display results\n",
        "    print('Document Text is:\\n\\n{}'.format(x_text))\n",
        "    print('\\nReal Document Label is: {}'.format(labels[y_data-1]))\n",
        "    print('\\nPredicted Document Label is: {}'.format(labels[int(torch.max(scores,1)[1][0])]))"
      ],
      "id": "ed30693d"
    },
    {
      "cell_type": "code",
      "execution_count": 165,
      "metadata": {
        "id": "534f0220",
        "colab": {
          "base_uri": "https://localhost:8080/"
        },
        "outputId": "9a320dc1-3b13-4816-f76e-4830671089b2"
      },
      "outputs": [
        {
          "output_type": "stream",
          "name": "stdout",
          "text": [
            "Document Text is:\n",
            "\n",
            "Astronomers Spot Monster Collision of Galaxies (Reuters) Reuters - If you think Earth is a mess,\\consider the turmoil in the constellation Hydra, where\\astronomers have spotted two monster galactic clusters slamming\\together in one of the biggest collisions ever recorded.\n",
            "\n",
            "Real Document Label is: Sci/Tech\n",
            "\n",
            "Predicted Document Label is: Sci/Tech\n"
          ]
        }
      ],
      "source": [
        "#Test model with random documents from test_loader\n",
        "sample_text(rnn_model, test_loader)"
      ],
      "id": "534f0220"
    },
    {
      "cell_type": "code",
      "execution_count": 22,
      "metadata": {
        "id": "bb38e093"
      },
      "outputs": [],
      "source": [
        "#Import required modules for confusion matrix\n",
        "from sklearn.metrics import classification_report, confusion_matrix\n",
        "import seaborn as sns\n",
        "import matplotlib.pyplot as plt\n",
        "\n",
        "# Function to create and plot a confusion matrix\n",
        "def plot_confusion_matrix(labels, predictions, class_names):\n",
        "    \"\"\"\n",
        "    Plot a confusion matrix using seaborn.\n",
        "\n",
        "    Args:\n",
        "    - labels (array): Array of true class labels.\n",
        "    - predictions (array): Array of predicted class labels.\n",
        "    - class_names (list): List containing names of classes.\n",
        "    \"\"\"\n",
        "    cm = confusion_matrix(labels, predictions)\n",
        "    plt.figure(figsize=(10, 10))\n",
        "    sns.heatmap(cm, annot=True, fmt='g', cmap='Blues', cbar=False,\n",
        "                xticklabels=class_names, yticklabels=class_names)\n",
        "    plt.xlabel('Predicted')\n",
        "    plt.ylabel('Actual')\n",
        "    plt.title('Confusion Matrix')\n",
        "    plt.show()"
      ],
      "id": "bb38e093"
    },
    {
      "cell_type": "code",
      "execution_count": 28,
      "metadata": {
        "id": "e7d73f69"
      },
      "outputs": [],
      "source": [
        "#Function to evaluate the model against a data partition\n",
        "def evaluate_model(model, loader):\n",
        "    \"\"\"\n",
        "    Evaluate the model on accuracy, loss, and other metrics.\n",
        "\n",
        "    Args:\n",
        "    - model (torch.nn.Module): The model to be evaluated.\n",
        "    - loader (torch.utils.data.DataLoader): DataLoader for the evaluation dataset.\n",
        "\n",
        "    Returns:\n",
        "    - dict: A dictionary containing various performance metrics.\n",
        "    \"\"\"\n",
        "    #Evaluate the model and create lists with the results\n",
        "    model.eval()\n",
        "    model.to(device)\n",
        "    all_preds = []\n",
        "    all_labels = []\n",
        "    total_loss = 0\n",
        "\n",
        "    #For improved efficiencies, no gradient calculation required for model predictions\n",
        "    with torch.no_grad():\n",
        "\n",
        "        #Calculate the model metrics against the selected test partition for all batches\n",
        "        for x, y in loader:\n",
        "            x, y = x.to(device), y.to(device)\n",
        "            outputs = model(x)\n",
        "            #loss = F.cross_entropy(outputs, y)\n",
        "            #total_loss += loss.item()\n",
        "            _, preds = torch.max(outputs, 1)\n",
        "            all_preds.append(preds.cpu().numpy())\n",
        "            all_labels.append(y.cpu().numpy())\n",
        "\n",
        "    #Store results\n",
        "    #avg_loss = total_loss / len(loader)\n",
        "    acc = accuracy(model, loader)\n",
        "    all_preds = np.concatenate(all_preds)\n",
        "    all_labels = np.concatenate(all_labels)\n",
        "    class_report = classification_report(all_labels, all_preds, target_names=labels, output_dict=True)\n",
        "\n",
        "    #Create a dictionary with the final metrics\n",
        "    metrics = {\n",
        "        #'loss': avg_loss,\n",
        "        'accuracy': acc,\n",
        "        'classification_report': class_report,\n",
        "    }\n",
        "    return metrics, all_labels, all_preds"
      ],
      "id": "e7d73f69"
    },
    {
      "cell_type": "code",
      "execution_count": 29,
      "metadata": {
        "id": "5327e204",
        "colab": {
          "base_uri": "https://localhost:8080/",
          "height": 872
        },
        "outputId": "7e33e5f4-a82a-4f4c-9452-12912872f13a"
      },
      "outputs": [
        {
          "output_type": "display_data",
          "data": {
            "text/plain": [
              "<Figure size 1000x1000 with 1 Axes>"
            ],
            "image/png": "[encoded data removed]"
          },
          "metadata": {}
        }
      ],
      "source": [
        "# Evaluate the model\n",
        "metrics, all_labels, all_preds = evaluate_model(rnn_model, test_loader)\n",
        "\n",
        "# Plot the confusion matrix\n",
        "plot_confusion_matrix(all_labels, all_preds, labels)"
      ],
      "id": "5327e204"
    },
    {
      "cell_type": "markdown",
      "source": [
        "### **Conclusions**"
      ],
      "metadata": {
        "id": "T2K7d74QjOXs"
      },
      "id": "T2K7d74QjOXs"
    },
    {
      "cell_type": "markdown",
      "source": [
        "***With this text document classification excercise using the AG News data set, it was possible to study and understand the power of word embedding used in parallel with recurrent neural networks for analysing time-based data series. On this case, all the text documents were tokenized and then translated to an index summary using the torch text basic english dictionary. After transforming the text time series into numerical data, then word embeddings were created using the dictionary length and the same maximum vector dimensions to create square shaped tensors as input for our model. LSTM was chosen as the recurrent neural network model due to its capabilty for reducing the vanishing gradient issues for long input tensors and for its improved capabilty on holding the context for the time series being analyzed. The accuracy results achieved for all test partitions were equal to 90% or higher, so a very good abstraction from the word embedding tensors was reached. RNNs are a very powerful tool for modeling any data type that could be described as a time or sequence series.***"
      ],
      "metadata": {
        "id": "zN_B0Cm-jVRF"
      },
      "id": "zN_B0Cm-jVRF"
    },
    {
      "cell_type": "markdown",
      "source": [
        "******"
      ],
      "metadata": {
        "id": "uWUBECvJjDpJ"
      },
      "id": "uWUBECvJjDpJ"
    }
  ],
  "metadata": {
    "colab": {
      "provenance": [],
      "include_colab_link": true
    },
    "kernelspec": {
      "display_name": "Python 3 (ipykernel)",
      "language": "python",
      "name": "python3"
    },
    "language_info": {
      "codemirror_mode": {
        "name": "ipython",
        "version": 3
      },
      "file_extension": ".py",
      "mimetype": "text/x-python",
      "name": "python",
      "nbconvert_exporter": "python",
      "pygments_lexer": "ipython3",
      "version": "3.9.0"
    },
    "varInspector": {
      "cols": {
        "lenName": 16,
        "lenType": 16,
        "lenVar": 40
      },
      "kernels_config": {
        "python": {
          "delete_cmd_postfix": "",
          "delete_cmd_prefix": "del ",
          "library": "var_list.py",
          "varRefreshCmd": "print(var_dic_list())"
        },
        "r": {
          "delete_cmd_postfix": ") ",
          "delete_cmd_prefix": "rm(",
          "library": "var_list.r",
          "varRefreshCmd": "cat(var_dic_list()) "
        }
      },
      "types_to_exclude": [
        "module",
        "function",
        "builtin_function_or_method",
        "instance",
        "_Feature"
      ],
      "window_display": false
    }
  },
  "nbformat": 4,
  "nbformat_minor": 5
}